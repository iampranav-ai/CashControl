{
 "cells": [
  {
   "cell_type": "code",
   "execution_count": 1,
   "outputs": [
    {
     "name": "stdout",
     "output_type": "stream",
     "text": [
      "Receipt written to receipt.txt\n"
     ]
    },
    {
     "ename": "SystemExit",
     "evalue": "0",
     "output_type": "error",
     "traceback": [
      "An exception has occurred, use %tb to see the full traceback.\n",
      "\u001B[1;31mSystemExit\u001B[0m\u001B[1;31m:\u001B[0m 0\n"
     ]
    },
    {
     "name": "stderr",
     "output_type": "stream",
     "text": [
      "c:\\users\\pranav\\appdata\\local\\programs\\python\\python38\\lib\\site-packages\\IPython\\core\\interactiveshell.py:3452: UserWarning: To exit: use 'exit', 'quit', or Ctrl-D.\n",
      "  warn(\"To exit: use 'exit', 'quit', or Ctrl-D.\", stacklevel=1)\n"
     ]
    }
   ],
   "source": [
    "import sys\n",
    "from PyQt5.QtWidgets import QApplication, QMainWindow, QTableWidget, QTableWidgetItem, QPushButton, QHBoxLayout, QVBoxLayout, QWidget, QLabel\n",
    "\n",
    "class ExpenseTracker(QMainWindow):\n",
    "    def __init__(self):\n",
    "        super().__init__()\n",
    "\n",
    "        self.table = QTableWidget()\n",
    "        self.table.setColumnCount(2)\n",
    "        self.table.setHorizontalHeaderLabels(['Expense', 'Amount'])\n",
    "\n",
    "        add_button = QPushButton('Add')\n",
    "        add_button.clicked.connect(self.add_expense)\n",
    "\n",
    "        remove_button = QPushButton('Remove')\n",
    "        remove_button.clicked.connect(self.remove_expense)\n",
    "\n",
    "        print_button = QPushButton('Print')\n",
    "        print_button.clicked.connect(self.print_receipt)\n",
    "\n",
    "        total_expense = QLabel(\"Total Expense: 0\")\n",
    "        self.total_expense = total_expense\n",
    "\n",
    "        button_layout = QHBoxLayout()\n",
    "        button_layout.addWidget(add_button)\n",
    "        button_layout.addWidget(remove_button)\n",
    "        button_layout.addWidget(print_button)\n",
    "\n",
    "        layout = QVBoxLayout()\n",
    "        layout.addWidget(self.table)\n",
    "        layout.addWidget(total_expense)\n",
    "        layout.addLayout(button_layout)\n",
    "\n",
    "        central_widget = QWidget()\n",
    "        central_widget.setLayout(layout)\n",
    "\n",
    "        self.setCentralWidget(central_widget)\n",
    "\n",
    "    def add_expense(self):\n",
    "        expense = input('Expense: ')\n",
    "        amount = int(input('Amount: '))\n",
    "        row = self.table.rowCount()\n",
    "        self.table.insertRow(row)\n",
    "        self.table.setItem(row, 0, QTableWidgetItem(expense))\n",
    "        self.table.setItem(row, 1, QTableWidgetItem(str(amount)))\n",
    "        self.update_total_expense()\n",
    "\n",
    "    def remove_expense(self):\n",
    "        row = self.table.currentRow()\n",
    "        self.table.removeRow(row)\n",
    "        self.update_total_expense()\n",
    "\n",
    "    def update_total_expense(self):\n",
    "        total_expense = 0\n",
    "        for i in range(self.table.rowCount()):\n",
    "            amount = int(self.table.item(i, 1).text())\n",
    "            total_expense += amount\n",
    "        self.total_expense.setText(\"Total Expense: {}\".format(total_expense))\n",
    "\n",
    "    def print_receipt(self):\n",
    "        with open(\"receipt.txt\", \"w\") as file:\n",
    "            file.write(\"Expense Tracker Receipt\\n\\n\")\n",
    "            for i in range(self.table.rowCount()):\n",
    "                expense = self.table.item(i, 0).text()\n",
    "                amount = self.table.item(i, 1).text()\n",
    "                file.write(\"Expense: {}\\nAmount: {}\\n\\n\".format(expense, amount))\n",
    "\n",
    "\n",
    "            total_expense = self.total_expense.text().split(\":\")[-1].strip()\n",
    "            file.write(\"Total Expense: {}\".format(total_expense))\n",
    "        print(\"Receipt written to receipt.txt\")\n",
    "app = QApplication(sys.argv)\n",
    "expense_tracker = ExpenseTracker()\n",
    "expense_tracker.show()\n",
    "sys.exit(app.exec_())\n"
   ],
   "metadata": {
    "collapsed": false,
    "pycharm": {
     "name": "#%%\n"
    }
   }
  },
  {
   "cell_type": "code",
   "execution_count": null,
   "outputs": [],
   "source": [],
   "metadata": {
    "collapsed": false,
    "pycharm": {
     "name": "#%%\n"
    }
   }
  }
 ],
 "metadata": {
  "kernelspec": {
   "display_name": "Python 3",
   "language": "python",
   "name": "python3"
  },
  "language_info": {
   "codemirror_mode": {
    "name": "ipython",
    "version": 2
   },
   "file_extension": ".py",
   "mimetype": "text/x-python",
   "name": "python",
   "nbconvert_exporter": "python",
   "pygments_lexer": "ipython2",
   "version": "2.7.6"
  }
 },
 "nbformat": 4,
 "nbformat_minor": 0
}